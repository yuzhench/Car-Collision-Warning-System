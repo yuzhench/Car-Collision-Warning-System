{
 "cells": [
  {
   "cell_type": "code",
   "execution_count": 1,
   "metadata": {},
   "outputs": [],
   "source": [
    "import os"
   ]
  },
  {
   "cell_type": "code",
   "execution_count": 5,
   "metadata": {},
   "outputs": [],
   "source": [
    "class_dict = {'plane':0, 'ship':1, 'large-vehicle':2, 'small-vehicle': 3, 'helicopter': 4}"
   ]
  },
  {
   "cell_type": "code",
   "execution_count": 7,
   "metadata": {},
   "outputs": [
    {
     "name": "stdout",
     "output_type": "stream",
     "text": [
      "Directory Already Exists\n"
     ]
    }
   ],
   "source": [
    "label_texts = os.listdir('labelTxt/')\n",
    "try:\n",
    "    os.mkdir(\"labelTxt_Trim\")\n",
    "    print(\"New Directory Created\")\n",
    "except:\n",
    "    print(\"Directory Already Exists\")\n",
    "for file in label_texts:\n",
    "    fpath = os.path.join(\"labelTxt\", file)\n",
    "    fpath_new = os.path.join(\"labelTxt_Trim\", file)\n",
    "    with open(fpath, 'r') as f:\n",
    "        lines = f.readlines()\n",
    "    with open(fpath_new, 'w') as f:\n",
    "        lines.pop(0)\n",
    "        lines.pop(0)\n",
    "        for line in lines:\n",
    "            labels = line.split()\n",
    "            if(labels[-2] in class_dict):\n",
    "                f.write(line)"
   ]
  },
  {
   "cell_type": "code",
   "execution_count": null,
   "metadata": {},
   "outputs": [],
   "source": []
  }
 ],
 "metadata": {
  "kernelspec": {
   "display_name": "base",
   "language": "python",
   "name": "python3"
  },
  "language_info": {
   "codemirror_mode": {
    "name": "ipython",
    "version": 3
   },
   "file_extension": ".py",
   "mimetype": "text/x-python",
   "name": "python",
   "nbconvert_exporter": "python",
   "pygments_lexer": "ipython3",
   "version": "3.11.7"
  }
 },
 "nbformat": 4,
 "nbformat_minor": 2
}
